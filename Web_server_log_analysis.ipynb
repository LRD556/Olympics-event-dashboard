{
 "cells": [
  {
   "cell_type": "markdown",
   "id": "1c74ed24",
   "metadata": {},
   "source": [
    "# Generating web server logs"
   ]
  },
  {
   "cell_type": "code",
   "execution_count": 101,
   "id": "a7f071e4",
   "metadata": {},
   "outputs": [],
   "source": [
    "#Importing Libraries\n",
    "import csv\n",
    "import random\n",
    "import datetime"
   ]
  },
  {
   "cell_type": "code",
   "execution_count": 102,
   "id": "462737b4",
   "metadata": {},
   "outputs": [],
   "source": [
    "#Status codes and viewer URL's\n",
    "status_codes= [200, 201, 400, 401, 403, 404, 500] \n",
    "urls= [\n",
    "    \"/cycling-road/\",\n",
    "    \"/archery/\",\n",
    "    \"/athletics/\",\n",
    "    \"/boxing/\",\n",
    "    \"/swimming/\",\n",
    "    \"/judo/\",\n",
    "    \"/karate/\",\n",
    "    \"/tennis/\"\n",
    "]"
   ]
  },
  {
   "cell_type": "code",
   "execution_count": 103,
   "id": "a672dbac",
   "metadata": {},
   "outputs": [],
   "source": [
    "#Generating random IP adresses\n",
    "def generate_ip_address():\n",
    "    return f'{random.randint(1,255)}.{random.randint(1,255)}.{random.randint(1,255)}.{random.randint(1,255)}'\n"
   ]
  },
  {
   "cell_type": "code",
   "execution_count": 104,
   "id": "a43b395d",
   "metadata": {},
   "outputs": [],
   "source": [
    "#Generting random time\n",
    "def generate_timestamp():\n",
    "    current_time =datetime.datetime.now()\n",
    "    random_time =current_time - datetime.timedelta(seconds= random.randint(1, 86400))\n",
    "    return random_time.strftime(\"%H:%M:%S %z\")"
   ]
  },
  {
   "cell_type": "code",
   "execution_count": 105,
   "id": "84a0f8b5",
   "metadata": {},
   "outputs": [],
   "source": [
    "#Generating web server log entries\n",
    "def generate_log_entry():\n",
    "    ip_address = generate_ip_address()\n",
    "    timestamp =  generate_timestamp()  \n",
    "    http_method = 'GET'  \n",
    "    url= random.choice(urls)\n",
    "    http_version = 'Https://www.Olymipcs.com/watch'\n",
    "    status_code = random.choice(status_codes)\n",
    "    return [ip_address,timestamp, f'\"{http_version} {url} {http_method}\"', status_code]"
   ]
  },
  {
   "cell_type": "code",
   "execution_count": 106,
   "id": "2be3f512",
   "metadata": {},
   "outputs": [],
   "source": [
    "#Number of entries in CSV file\n",
    "num_entries = 3000"
   ]
  },
  {
   "cell_type": "code",
   "execution_count": 107,
   "id": "e19abdf6",
   "metadata": {},
   "outputs": [],
   "source": [
    "#Generate Lig entries\n",
    "log_entries =[generate_log_entry() for i in range(num_entries)]"
   ]
  },
  {
   "cell_type": "code",
   "execution_count": 108,
   "id": "0a70a461",
   "metadata": {},
   "outputs": [],
   "source": [
    "#Saving web server logs as CSV\n",
    "with open('web_server_logs.csv', 'w', newline='') as f:\n",
    "    writer= csv.writer(f)\n",
    "    writer.writerow(['IP_Address', 'Timestamp', 'Request','Status'])\n",
    "    writer.writerows(log_entries)"
   ]
  },
  {
   "cell_type": "markdown",
   "id": "b1cc71dc",
   "metadata": {},
   "source": [
    "# Data Ingestion"
   ]
  },
  {
   "cell_type": "code",
   "execution_count": 109,
   "id": "b00f6bf8",
   "metadata": {},
   "outputs": [],
   "source": [
    "#Importing libraries\n",
    "import pandas as pd"
   ]
  },
  {
   "cell_type": "code",
   "execution_count": 110,
   "id": "822014e9",
   "metadata": {},
   "outputs": [],
   "source": [
    "#loading dataset into dataframe\n",
    "df = pd.read_csv('web_server_logs.csv')"
   ]
  },
  {
   "cell_type": "markdown",
   "id": "fe2ef645",
   "metadata": {},
   "source": [
    "# Exploratory data analysis"
   ]
  },
  {
   "cell_type": "code",
   "execution_count": 111,
   "id": "72316abc",
   "metadata": {},
   "outputs": [
    {
     "data": {
      "text/html": [
       "<div>\n",
       "<style scoped>\n",
       "    .dataframe tbody tr th:only-of-type {\n",
       "        vertical-align: middle;\n",
       "    }\n",
       "\n",
       "    .dataframe tbody tr th {\n",
       "        vertical-align: top;\n",
       "    }\n",
       "\n",
       "    .dataframe thead th {\n",
       "        text-align: right;\n",
       "    }\n",
       "</style>\n",
       "<table border=\"1\" class=\"dataframe\">\n",
       "  <thead>\n",
       "    <tr style=\"text-align: right;\">\n",
       "      <th></th>\n",
       "      <th>IP_Address</th>\n",
       "      <th>Timestamp</th>\n",
       "      <th>Request</th>\n",
       "      <th>Status</th>\n",
       "    </tr>\n",
       "  </thead>\n",
       "  <tbody>\n",
       "    <tr>\n",
       "      <th>0</th>\n",
       "      <td>227.209.24.49</td>\n",
       "      <td>10:45:58</td>\n",
       "      <td>\"Https://www.Olymipcs.com/watch /boxing/ GET\"</td>\n",
       "      <td>400</td>\n",
       "    </tr>\n",
       "    <tr>\n",
       "      <th>1</th>\n",
       "      <td>161.234.25.96</td>\n",
       "      <td>18:51:48</td>\n",
       "      <td>\"Https://www.Olymipcs.com/watch /athletics/ GET\"</td>\n",
       "      <td>401</td>\n",
       "    </tr>\n",
       "    <tr>\n",
       "      <th>2</th>\n",
       "      <td>73.182.118.194</td>\n",
       "      <td>14:08:56</td>\n",
       "      <td>\"Https://www.Olymipcs.com/watch /swimming/ GET\"</td>\n",
       "      <td>201</td>\n",
       "    </tr>\n",
       "    <tr>\n",
       "      <th>3</th>\n",
       "      <td>198.223.127.149</td>\n",
       "      <td>14:43:57</td>\n",
       "      <td>\"Https://www.Olymipcs.com/watch /swimming/ GET\"</td>\n",
       "      <td>403</td>\n",
       "    </tr>\n",
       "    <tr>\n",
       "      <th>4</th>\n",
       "      <td>221.61.219.77</td>\n",
       "      <td>09:58:12</td>\n",
       "      <td>\"Https://www.Olymipcs.com/watch /cycling-road/...</td>\n",
       "      <td>500</td>\n",
       "    </tr>\n",
       "  </tbody>\n",
       "</table>\n",
       "</div>"
      ],
      "text/plain": [
       "        IP_Address  Timestamp  \\\n",
       "0    227.209.24.49  10:45:58    \n",
       "1    161.234.25.96  18:51:48    \n",
       "2   73.182.118.194  14:08:56    \n",
       "3  198.223.127.149  14:43:57    \n",
       "4    221.61.219.77  09:58:12    \n",
       "\n",
       "                                             Request  Status  \n",
       "0      \"Https://www.Olymipcs.com/watch /boxing/ GET\"     400  \n",
       "1   \"Https://www.Olymipcs.com/watch /athletics/ GET\"     401  \n",
       "2    \"Https://www.Olymipcs.com/watch /swimming/ GET\"     201  \n",
       "3    \"Https://www.Olymipcs.com/watch /swimming/ GET\"     403  \n",
       "4  \"Https://www.Olymipcs.com/watch /cycling-road/...     500  "
      ]
     },
     "execution_count": 111,
     "metadata": {},
     "output_type": "execute_result"
    }
   ],
   "source": [
    "#Checking data frame head\n",
    "df.head()"
   ]
  },
  {
   "cell_type": "code",
   "execution_count": 112,
   "id": "a05bb535",
   "metadata": {},
   "outputs": [
    {
     "name": "stdout",
     "output_type": "stream",
     "text": [
      "<class 'pandas.core.frame.DataFrame'>\n",
      "RangeIndex: 3000 entries, 0 to 2999\n",
      "Data columns (total 4 columns):\n",
      " #   Column      Non-Null Count  Dtype \n",
      "---  ------      --------------  ----- \n",
      " 0   IP_Address  3000 non-null   object\n",
      " 1   Timestamp   3000 non-null   object\n",
      " 2   Request     3000 non-null   object\n",
      " 3   Status      3000 non-null   int64 \n",
      "dtypes: int64(1), object(3)\n",
      "memory usage: 93.9+ KB\n"
     ]
    }
   ],
   "source": [
    "#Getting dataframe info\n",
    "df.info()"
   ]
  },
  {
   "cell_type": "code",
   "execution_count": 113,
   "id": "1a3c4a85",
   "metadata": {},
   "outputs": [
    {
     "data": {
      "text/plain": [
       "(3000, 4)"
      ]
     },
     "execution_count": 113,
     "metadata": {},
     "output_type": "execute_result"
    }
   ],
   "source": [
    "#Getting dataframe shape\n",
    "df.shape"
   ]
  },
  {
   "cell_type": "code",
   "execution_count": 114,
   "id": "b35b8dac",
   "metadata": {},
   "outputs": [
    {
     "data": {
      "text/plain": [
       "IP_Address    3000\n",
       "Timestamp     2945\n",
       "Request          8\n",
       "Status           7\n",
       "dtype: int64"
      ]
     },
     "execution_count": 114,
     "metadata": {},
     "output_type": "execute_result"
    }
   ],
   "source": [
    "#Checking for unique values\n",
    "df.nunique()"
   ]
  },
  {
   "cell_type": "markdown",
   "id": "67e6e315",
   "metadata": {},
   "source": [
    "# Data cleaning"
   ]
  },
  {
   "cell_type": "code",
   "execution_count": 115,
   "id": "15ac8159",
   "metadata": {},
   "outputs": [
    {
     "data": {
      "text/plain": [
       "0"
      ]
     },
     "execution_count": 115,
     "metadata": {},
     "output_type": "execute_result"
    }
   ],
   "source": [
    "#Checking for duplictes\n",
    "df.duplicated().sum()"
   ]
  },
  {
   "cell_type": "code",
   "execution_count": 116,
   "id": "2d9ffe3f",
   "metadata": {},
   "outputs": [
    {
     "data": {
      "text/plain": [
       "IP_Address    0\n",
       "Timestamp     0\n",
       "Request       0\n",
       "Status        0\n",
       "dtype: int64"
      ]
     },
     "execution_count": 116,
     "metadata": {},
     "output_type": "execute_result"
    }
   ],
   "source": [
    "#Checking for null values\n",
    "df.isna().sum()"
   ]
  },
  {
   "cell_type": "code",
   "execution_count": 117,
   "id": "09aaedfe",
   "metadata": {},
   "outputs": [
    {
     "data": {
      "text/html": [
       "<div>\n",
       "<style scoped>\n",
       "    .dataframe tbody tr th:only-of-type {\n",
       "        vertical-align: middle;\n",
       "    }\n",
       "\n",
       "    .dataframe tbody tr th {\n",
       "        vertical-align: top;\n",
       "    }\n",
       "\n",
       "    .dataframe thead th {\n",
       "        text-align: right;\n",
       "    }\n",
       "</style>\n",
       "<table border=\"1\" class=\"dataframe\">\n",
       "  <thead>\n",
       "    <tr style=\"text-align: right;\">\n",
       "      <th></th>\n",
       "      <th>IP_Address</th>\n",
       "      <th>Timestamp</th>\n",
       "      <th>Request</th>\n",
       "      <th>Status</th>\n",
       "    </tr>\n",
       "  </thead>\n",
       "  <tbody>\n",
       "    <tr>\n",
       "      <th>0</th>\n",
       "      <td>227.209.24.49</td>\n",
       "      <td>10:45:58</td>\n",
       "      <td>boxing</td>\n",
       "      <td>400</td>\n",
       "    </tr>\n",
       "    <tr>\n",
       "      <th>1</th>\n",
       "      <td>161.234.25.96</td>\n",
       "      <td>18:51:48</td>\n",
       "      <td>athletics</td>\n",
       "      <td>401</td>\n",
       "    </tr>\n",
       "    <tr>\n",
       "      <th>2</th>\n",
       "      <td>73.182.118.194</td>\n",
       "      <td>14:08:56</td>\n",
       "      <td>swimming</td>\n",
       "      <td>201</td>\n",
       "    </tr>\n",
       "    <tr>\n",
       "      <th>3</th>\n",
       "      <td>198.223.127.149</td>\n",
       "      <td>14:43:57</td>\n",
       "      <td>swimming</td>\n",
       "      <td>403</td>\n",
       "    </tr>\n",
       "    <tr>\n",
       "      <th>4</th>\n",
       "      <td>221.61.219.77</td>\n",
       "      <td>09:58:12</td>\n",
       "      <td>cycling-road</td>\n",
       "      <td>500</td>\n",
       "    </tr>\n",
       "  </tbody>\n",
       "</table>\n",
       "</div>"
      ],
      "text/plain": [
       "        IP_Address  Timestamp       Request  Status\n",
       "0    227.209.24.49  10:45:58         boxing     400\n",
       "1    161.234.25.96  18:51:48      athletics     401\n",
       "2   73.182.118.194  14:08:56       swimming     201\n",
       "3  198.223.127.149  14:43:57       swimming     403\n",
       "4    221.61.219.77  09:58:12   cycling-road     500"
      ]
     },
     "execution_count": 117,
     "metadata": {},
     "output_type": "execute_result"
    }
   ],
   "source": [
    "#Removing excess text from URL's\n",
    "df[\"Request\"]= df[\"Request\"].str.split(\"/\").str[4]\n",
    "df.head()"
   ]
  },
  {
   "cell_type": "markdown",
   "id": "d4feb44c",
   "metadata": {},
   "source": [
    "# Data transformation"
   ]
  },
  {
   "cell_type": "code",
   "execution_count": 118,
   "id": "cf9321dc",
   "metadata": {},
   "outputs": [],
   "source": [
    "#Pulling viewers country of origin from IP address\n",
    "import geoip2.database\n",
    "\n",
    "reader= geoip2.database.Reader('GeoLite2-Country.mmdb')\n",
    "def get_country(ip):\n",
    "    try:\n",
    "        response =reader.country(ip)\n",
    "        return response.country.name\n",
    "    except:\n",
    "        return None\n",
    "    \n",
    "df['Country']=df['IP_Address'].apply(get_country)    \n",
    "reader.close()"
   ]
  },
  {
   "cell_type": "code",
   "execution_count": 119,
   "id": "7ed6250b",
   "metadata": {},
   "outputs": [
    {
     "data": {
      "text/html": [
       "<div>\n",
       "<style scoped>\n",
       "    .dataframe tbody tr th:only-of-type {\n",
       "        vertical-align: middle;\n",
       "    }\n",
       "\n",
       "    .dataframe tbody tr th {\n",
       "        vertical-align: top;\n",
       "    }\n",
       "\n",
       "    .dataframe thead th {\n",
       "        text-align: right;\n",
       "    }\n",
       "</style>\n",
       "<table border=\"1\" class=\"dataframe\">\n",
       "  <thead>\n",
       "    <tr style=\"text-align: right;\">\n",
       "      <th></th>\n",
       "      <th>IP_Address</th>\n",
       "      <th>Timestamp</th>\n",
       "      <th>Request</th>\n",
       "      <th>Status</th>\n",
       "      <th>Country</th>\n",
       "    </tr>\n",
       "  </thead>\n",
       "  <tbody>\n",
       "    <tr>\n",
       "      <th>0</th>\n",
       "      <td>227.209.24.49</td>\n",
       "      <td>10:45:58</td>\n",
       "      <td>boxing</td>\n",
       "      <td>400</td>\n",
       "      <td>None</td>\n",
       "    </tr>\n",
       "    <tr>\n",
       "      <th>1</th>\n",
       "      <td>161.234.25.96</td>\n",
       "      <td>18:51:48</td>\n",
       "      <td>athletics</td>\n",
       "      <td>401</td>\n",
       "      <td>Venezuela</td>\n",
       "    </tr>\n",
       "    <tr>\n",
       "      <th>2</th>\n",
       "      <td>73.182.118.194</td>\n",
       "      <td>14:08:56</td>\n",
       "      <td>swimming</td>\n",
       "      <td>201</td>\n",
       "      <td>United States</td>\n",
       "    </tr>\n",
       "    <tr>\n",
       "      <th>3</th>\n",
       "      <td>198.223.127.149</td>\n",
       "      <td>14:43:57</td>\n",
       "      <td>swimming</td>\n",
       "      <td>403</td>\n",
       "      <td>United States</td>\n",
       "    </tr>\n",
       "    <tr>\n",
       "      <th>4</th>\n",
       "      <td>221.61.219.77</td>\n",
       "      <td>09:58:12</td>\n",
       "      <td>cycling-road</td>\n",
       "      <td>500</td>\n",
       "      <td>Japan</td>\n",
       "    </tr>\n",
       "  </tbody>\n",
       "</table>\n",
       "</div>"
      ],
      "text/plain": [
       "        IP_Address  Timestamp       Request  Status        Country\n",
       "0    227.209.24.49  10:45:58         boxing     400           None\n",
       "1    161.234.25.96  18:51:48      athletics     401      Venezuela\n",
       "2   73.182.118.194  14:08:56       swimming     201  United States\n",
       "3  198.223.127.149  14:43:57       swimming     403  United States\n",
       "4    221.61.219.77  09:58:12   cycling-road     500          Japan"
      ]
     },
     "execution_count": 119,
     "metadata": {},
     "output_type": "execute_result"
    }
   ],
   "source": [
    "#Checking for country colum\n",
    "df.head()"
   ]
  },
  {
   "cell_type": "code",
   "execution_count": 120,
   "id": "23e78957",
   "metadata": {},
   "outputs": [
    {
     "data": {
      "text/plain": [
       "IP_Address      0\n",
       "Timestamp       0\n",
       "Request         0\n",
       "Status          0\n",
       "Country       442\n",
       "dtype: int64"
      ]
     },
     "execution_count": 120,
     "metadata": {},
     "output_type": "execute_result"
    }
   ],
   "source": [
    "#Checking for null values once more\n",
    "df.isna().sum()"
   ]
  },
  {
   "cell_type": "code",
   "execution_count": 121,
   "id": "3e841e97",
   "metadata": {},
   "outputs": [
    {
     "data": {
      "text/html": [
       "<div>\n",
       "<style scoped>\n",
       "    .dataframe tbody tr th:only-of-type {\n",
       "        vertical-align: middle;\n",
       "    }\n",
       "\n",
       "    .dataframe tbody tr th {\n",
       "        vertical-align: top;\n",
       "    }\n",
       "\n",
       "    .dataframe thead th {\n",
       "        text-align: right;\n",
       "    }\n",
       "</style>\n",
       "<table border=\"1\" class=\"dataframe\">\n",
       "  <thead>\n",
       "    <tr style=\"text-align: right;\">\n",
       "      <th></th>\n",
       "      <th>IP_Address</th>\n",
       "      <th>Timestamp</th>\n",
       "      <th>Request</th>\n",
       "      <th>Status</th>\n",
       "      <th>Country</th>\n",
       "      <th>Hour</th>\n",
       "    </tr>\n",
       "  </thead>\n",
       "  <tbody>\n",
       "    <tr>\n",
       "      <th>0</th>\n",
       "      <td>227.209.24.49</td>\n",
       "      <td>2023-08-30 10:45:58</td>\n",
       "      <td>boxing</td>\n",
       "      <td>400</td>\n",
       "      <td>None</td>\n",
       "      <td>10</td>\n",
       "    </tr>\n",
       "    <tr>\n",
       "      <th>1</th>\n",
       "      <td>161.234.25.96</td>\n",
       "      <td>2023-08-30 18:51:48</td>\n",
       "      <td>athletics</td>\n",
       "      <td>401</td>\n",
       "      <td>Venezuela</td>\n",
       "      <td>18</td>\n",
       "    </tr>\n",
       "    <tr>\n",
       "      <th>2</th>\n",
       "      <td>73.182.118.194</td>\n",
       "      <td>2023-08-30 14:08:56</td>\n",
       "      <td>swimming</td>\n",
       "      <td>201</td>\n",
       "      <td>United States</td>\n",
       "      <td>14</td>\n",
       "    </tr>\n",
       "    <tr>\n",
       "      <th>3</th>\n",
       "      <td>198.223.127.149</td>\n",
       "      <td>2023-08-30 14:43:57</td>\n",
       "      <td>swimming</td>\n",
       "      <td>403</td>\n",
       "      <td>United States</td>\n",
       "      <td>14</td>\n",
       "    </tr>\n",
       "    <tr>\n",
       "      <th>4</th>\n",
       "      <td>221.61.219.77</td>\n",
       "      <td>2023-08-30 09:58:12</td>\n",
       "      <td>cycling-road</td>\n",
       "      <td>500</td>\n",
       "      <td>Japan</td>\n",
       "      <td>09</td>\n",
       "    </tr>\n",
       "  </tbody>\n",
       "</table>\n",
       "</div>"
      ],
      "text/plain": [
       "        IP_Address           Timestamp       Request  Status        Country  \\\n",
       "0    227.209.24.49 2023-08-30 10:45:58        boxing     400           None   \n",
       "1    161.234.25.96 2023-08-30 18:51:48     athletics     401      Venezuela   \n",
       "2   73.182.118.194 2023-08-30 14:08:56      swimming     201  United States   \n",
       "3  198.223.127.149 2023-08-30 14:43:57      swimming     403  United States   \n",
       "4    221.61.219.77 2023-08-30 09:58:12  cycling-road     500          Japan   \n",
       "\n",
       "  Hour  \n",
       "0   10  \n",
       "1   18  \n",
       "2   14  \n",
       "3   14  \n",
       "4   09  "
      ]
     },
     "execution_count": 121,
     "metadata": {},
     "output_type": "execute_result"
    }
   ],
   "source": [
    "#Adding column to display the hour of veiwer activity\n",
    "df['Timestamp'] = pd.to_datetime(df['Timestamp'])\n",
    "df['Hour'] = df['Timestamp'].dt.strftime('%H')\n",
    "df.head()"
   ]
  },
  {
   "cell_type": "code",
   "execution_count": 122,
   "id": "12567bd8",
   "metadata": {},
   "outputs": [
    {
     "data": {
      "text/plain": [
       "IP_Address    0\n",
       "Timestamp     0\n",
       "Request       0\n",
       "Status        0\n",
       "Country       0\n",
       "Hour          0\n",
       "dtype: int64"
      ]
     },
     "execution_count": 122,
     "metadata": {},
     "output_type": "execute_result"
    }
   ],
   "source": [
    "#Removing null values\n",
    "df.dropna(subset=['Country'], inplace= True)\n",
    "df.isna().sum()"
   ]
  },
  {
   "cell_type": "markdown",
   "id": "98fa9554",
   "metadata": {},
   "source": [
    "# Visualizations"
   ]
  },
  {
   "cell_type": "code",
   "execution_count": 123,
   "id": "7a65c689",
   "metadata": {},
   "outputs": [],
   "source": [
    "import matplotlib.pyplot as plt"
   ]
  },
  {
   "cell_type": "code",
   "execution_count": 98,
   "id": "b03fadbd",
   "metadata": {},
   "outputs": [
    {
     "data": {
      "image/png": "[encoded data removed]",
      "text/plain": [
       "<Figure size 1000x600 with 1 Axes>"
      ]
     },
     "metadata": {},
     "output_type": "display_data"
    }
   ],
   "source": [
    "#Top 20 countries\n",
    "country_counts = df['Country'].value_counts()\n",
    "\n",
    "# Select the top 20 countries\n",
    "top_countries = country_counts.head(20)\n",
    "\n",
    "fig, ax = plt.subplots(figsize=(10, 6))\n",
    "top_countries.plot(kind='bar', ax=ax)\n",
    "\n",
    "ax.set_title('Top 20 Country Counts')\n",
    "ax.set_xlabel('Country')\n",
    "ax.set_ylabel('Count')\n",
    "ax.set_xticklabels(top_countries.index, rotation=45, ha='right')\n",
    "\n",
    "plt.tight_layout()\n",
    "plt.show()"
   ]
  },
  {
   "cell_type": "code",
   "execution_count": 124,
   "id": "b0889460",
   "metadata": {},
   "outputs": [
    {
     "data": {
      "image/png": "[encoded data removed]",
      "text/plain": [
       "<Figure size 1000x600 with 1 Axes>"
      ]
     },
     "metadata": {},
     "output_type": "display_data"
    }
   ],
   "source": [
    "#Top 10 Sporting events\n",
    "\n",
    "# Select the number of top events to consider\n",
    "num_events = 10\n",
    "sport_event_counts = df['Request'].value_counts()\n",
    "top_sport_events = sport_event_counts.head(num_events)\n",
    "\n",
    "fig, ax = plt.subplots(figsize=(10, 6))\n",
    "ax.scatter(top_sport_events.index, top_sport_events.values, color='blue', marker='o')\n",
    "ax.set_title('Top 10 Sporting Events')\n",
    "ax.set_xlabel('Sport Event')\n",
    "ax.set_ylabel('Count')\n",
    "\n",
    "\n",
    "ax.set_xticks(range(len(top_sport_events)))\n",
    "ax.set_xticklabels(top_sport_events.index, rotation=45, ha='right')\n",
    "plt.tight_layout()\n",
    "plt.show()"
   ]
  },
  {
   "cell_type": "code",
   "execution_count": 125,
   "id": "6edda9aa",
   "metadata": {},
   "outputs": [
    {
     "data": {
      "image/png": "[encoded data removed]",
      "text/plain": [
       "<Figure size 640x480 with 1 Axes>"
      ]
     },
     "metadata": {},
     "output_type": "display_data"
    }
   ],
   "source": [
    "#Popular view times\n",
    "num_top_values = 5\n",
    "\n",
    "# Calculate the counts for each hour\n",
    "hour_counts = df['Hour'].value_counts()\n",
    "top_hours = hour_counts.head(num_top_values)\n",
    "fig, ax = plt.subplots()\n",
    "ax.pie(top_hours, labels=top_hours.index, autopct='%1.1f%%', startangle=90)\n",
    "ax.axis('equal')  \n",
    "ax.set_title('Top 5 Hours Distribution')\n",
    "plt.show()"
   ]
  },
  {
   "cell_type": "code",
   "execution_count": 126,
   "id": "942d4faa",
   "metadata": {},
   "outputs": [
    {
     "data": {
      "image/png": "[encoded data removed]",
      "text/plain": [
       "<Figure size 640x480 with 1 Axes>"
      ]
     },
     "metadata": {},
     "output_type": "display_data"
    }
   ],
   "source": [
    "#Top status codes recieved by viewers\n",
    "status_counts = df['Status'].value_counts()\n",
    "\n",
    "# Create a bar plot using Matplotlib\n",
    "fig, ax = plt.subplots()\n",
    "status_counts.plot(kind='bar', ax=ax)\n",
    "ax.set_title('Status Distribution')\n",
    "ax.set_xlabel('Status')\n",
    "ax.set_ylabel('Count')\n",
    "plt.tight_layout()\n",
    "plt.show()\n"
   ]
  },
  {
   "cell_type": "code",
   "execution_count": null,
   "id": "58f3e0bb",
   "metadata": {},
   "outputs": [],
   "source": []
  }
 ],
 "metadata": {
  "kernelspec": {
   "display_name": "Python 3 (ipykernel)",
   "language": "python",
   "name": "python3"
  },
  "language_info": {
   "codemirror_mode": {
    "name": "ipython",
    "version": 3
   },
   "file_extension": ".py",
   "mimetype": "text/x-python",
   "name": "python",
   "nbconvert_exporter": "python",
   "pygments_lexer": "ipython3",
   "version": "3.11.4"
  }
 },
 "nbformat": 4,
 "nbformat_minor": 5
}
